{
 "cells": [
  {
   "cell_type": "markdown",
   "id": "c7f677f4",
   "metadata": {},
   "source": [
    "## Exercicios Python - Semana 3"
   ]
  },
  {
   "cell_type": "markdown",
   "id": "b275b3b6",
   "metadata": {},
   "source": [
    "### Parte 1"
   ]
  },
  {
   "cell_type": "markdown",
   "id": "7ea36102",
   "metadata": {},
   "source": [
    "#### 1) Escreva um código Python que lê do teclado o nome e a idade de um usuário e imprime o ano em que o usuário completará 100 anos.\n",
    "Dica: você pode ler strings digitadas no teclado utilizando a função builtin input('mensagem'). Lembre-se de converter números para seu respectivo tipo (int ou float) antes fazer operações aritméticas."
   ]
  },
  {
   "cell_type": "code",
   "execution_count": 34,
   "id": "56b5b745",
   "metadata": {},
   "outputs": [
    {
     "name": "stdout",
     "output_type": "stream",
     "text": [
      "Informe seu nome: Vitor\n",
      "Informe sua idade: 26\n"
     ]
    }
   ],
   "source": [
    "name = input('Informe seu nome: ')\n",
    "age = int(input('Informe sua idade: '))"
   ]
  },
  {
   "cell_type": "code",
   "execution_count": 35,
   "id": "e137ba3a",
   "metadata": {},
   "outputs": [
    {
     "data": {
      "text/plain": [
       "2022"
      ]
     },
     "execution_count": 35,
     "metadata": {},
     "output_type": "execute_result"
    }
   ],
   "source": [
    "import datetime\n",
    "today = datetime.date.today()\n",
    "year = today.year\n",
    "year"
   ]
  },
  {
   "cell_type": "code",
   "execution_count": 36,
   "id": "ee6199d8",
   "metadata": {},
   "outputs": [
    {
     "data": {
      "text/plain": [
       "74"
      ]
     },
     "execution_count": 36,
     "metadata": {},
     "output_type": "execute_result"
    }
   ],
   "source": [
    "years_to_100 = 100 - 26\n",
    "years_to_100"
   ]
  },
  {
   "cell_type": "code",
   "execution_count": 37,
   "id": "647aa462",
   "metadata": {},
   "outputs": [
    {
     "data": {
      "text/plain": [
       "2096"
      ]
     },
     "execution_count": 37,
     "metadata": {},
     "output_type": "execute_result"
    }
   ],
   "source": [
    "year_of_100 = year + years_to_100\n",
    "year_of_100"
   ]
  },
  {
   "cell_type": "code",
   "execution_count": 38,
   "id": "bbdb8222",
   "metadata": {},
   "outputs": [
    {
     "name": "stdout",
     "output_type": "stream",
     "text": [
      "O usuário Vitor completará 100 anos em 2096\n"
     ]
    }
   ],
   "source": [
    "print('O usuário {} completará 100 anos em {}'.format(name, year_of_100))"
   ]
  },
  {
   "cell_type": "markdown",
   "id": "e3e7f3ea",
   "metadata": {},
   "source": [
    "#### 2) Escreva um código Python que lê do teclado um número digitado pelo usuário e imprime se ele par ou ímpar."
   ]
  },
  {
   "cell_type": "code",
   "execution_count": 39,
   "id": "79a8aaea",
   "metadata": {},
   "outputs": [
    {
     "name": "stdout",
     "output_type": "stream",
     "text": [
      "Entre com um número para saber se ele é impar ou par: 10\n"
     ]
    }
   ],
   "source": [
    "number = int(input('Entre com um número para saber se ele é impar ou par: '))"
   ]
  },
  {
   "cell_type": "code",
   "execution_count": 40,
   "id": "2c3c56f9",
   "metadata": {},
   "outputs": [
    {
     "name": "stdout",
     "output_type": "stream",
     "text": [
      "Par\n"
     ]
    }
   ],
   "source": [
    "if (number%2) == 0:\n",
    "        print(\"Par\")\n",
    "else:\n",
    "        print(\"Ímpar\")"
   ]
  },
  {
   "cell_type": "markdown",
   "id": "e03c18f2",
   "metadata": {},
   "source": [
    "#### 3) Escreva um código Python que imprime os números pares de 0 até 20 (incluso).\n",
    "Dica: olhe a documentação da função range(). Mais informações no link"
   ]
  },
  {
   "cell_type": "code",
   "execution_count": 42,
   "id": "565b46c9",
   "metadata": {},
   "outputs": [
    {
     "name": "stdout",
     "output_type": "stream",
     "text": [
      "0\n",
      "2\n",
      "4\n",
      "6\n",
      "8\n",
      "10\n",
      "12\n",
      "14\n",
      "16\n",
      "18\n",
      "20\n"
     ]
    }
   ],
   "source": [
    "for i in range(21):\n",
    "    if (i % 2) == 0:\n",
    "        print(i)"
   ]
  },
  {
   "cell_type": "markdown",
   "id": "fbcfb98e",
   "metadata": {},
   "source": [
    "#### 4) Escreva um código Python que imprime todos os números primos de 0 até 100."
   ]
  },
  {
   "cell_type": "code",
   "execution_count": 69,
   "id": "fae07038",
   "metadata": {},
   "outputs": [],
   "source": [
    "def lista_primos(x):\n",
    "    numeros=[]\n",
    "    for i in range(1, x+1):\n",
    "        div = 0\n",
    "        for j in range(1, i+1):\n",
    "            if(i%j == 0):\n",
    "                div = div + 1\n",
    "        if (div == 2):\n",
    "            numeros.append(i)\n",
    "    print(numeros)"
   ]
  },
  {
   "cell_type": "code",
   "execution_count": 70,
   "id": "a671d0c5",
   "metadata": {},
   "outputs": [
    {
     "name": "stdout",
     "output_type": "stream",
     "text": [
      "[2, 3, 5, 7, 11, 13, 17, 19, 23, 29, 31, 37, 41, 43, 47, 53, 59, 61, 67, 71, 73, 79, 83, 89, 97]\n"
     ]
    }
   ],
   "source": [
    "lista_primos(100)"
   ]
  },
  {
   "cell_type": "markdown",
   "id": "0cff8dca",
   "metadata": {},
   "source": [
    "#### 5) Escreva um código Python que lê do teclado um dia, um mês e um ano e imprime a data completa no formato a seguir:\n",
    "Exemplo: 22/10/2022"
   ]
  },
  {
   "cell_type": "code",
   "execution_count": 2,
   "id": "1aa7f860",
   "metadata": {},
   "outputs": [
    {
     "name": "stdout",
     "output_type": "stream",
     "text": [
      "Entre com o dia: 1\n",
      "Entre com o mês: 12\n",
      "Entre com o ano: 1223\n"
     ]
    }
   ],
   "source": [
    "day = input(\"Entre com o dia: \")\n",
    "month = input(\"Entre com o mês: \")\n",
    "year = input(\"Entre com o ano: \")"
   ]
  },
  {
   "cell_type": "code",
   "execution_count": 3,
   "id": "5a1af08c",
   "metadata": {},
   "outputs": [
    {
     "name": "stdout",
     "output_type": "stream",
     "text": [
      "1/12/1223\n"
     ]
    }
   ],
   "source": [
    "print(f'{day}/{month}/{year}')"
   ]
  },
  {
   "cell_type": "markdown",
   "id": "1adeafd3",
   "metadata": {},
   "source": [
    "## Parte 2"
   ]
  },
  {
   "cell_type": "markdown",
   "id": "683b81a1",
   "metadata": {},
   "source": [
    "#### 1) Dada duas listas como no exemplo abaixo:\n",
    "\n",
    "a = [1, 1, 2, 3, 5, 8, 13, 21, 34, 55, 89]\n",
    "\n",
    "b = [1, 2, 3, 4, 5, 6, 7, 8, 9, 10, 11, 12, 13]\n",
    "\n",
    "Escreve um programa que retorne o que as litas têm comum (sem repetições). O seu programa deve funcionar para listas de qualquer tamanho."
   ]
  },
  {
   "cell_type": "code",
   "execution_count": 89,
   "id": "6738b972",
   "metadata": {},
   "outputs": [],
   "source": [
    "def comparaLista(lista1, lista2):\n",
    "    resultado= []\n",
    "    for i in lista1:\n",
    "            if i in lista2:\n",
    "                if i not in resultado:\n",
    "                    resultado.append(i)\n",
    "    print(resultado)"
   ]
  },
  {
   "cell_type": "code",
   "execution_count": 90,
   "id": "a83778f2",
   "metadata": {},
   "outputs": [],
   "source": [
    "a = [1, 1, 2, 3, 5, 8, 13, 21, 34, 55, 89]\n",
    "\n",
    "b = [1, 2, 3, 4, 5, 6, 7, 8, 9, 10, 11, 12, 13]"
   ]
  },
  {
   "cell_type": "code",
   "execution_count": 91,
   "id": "c9d64938",
   "metadata": {},
   "outputs": [
    {
     "name": "stdout",
     "output_type": "stream",
     "text": [
      "[1, 2, 3, 5, 8, 13]\n"
     ]
    }
   ],
   "source": [
    "comparaLista(b, a)"
   ]
  },
  {
   "cell_type": "markdown",
   "id": "8d13618e",
   "metadata": {},
   "source": [
    "#### 2) Dada a seguinte lista:\n",
    "\n",
    "a = [1, 4, 9, 16, 25, 36, 49, 64, 81, 100]\n",
    "\n",
    "Faça um programa que gere uma nova lista contendo apenas números ímpares."
   ]
  },
  {
   "cell_type": "code",
   "execution_count": 92,
   "id": "7503dfd5",
   "metadata": {},
   "outputs": [],
   "source": [
    "a = [1, 4, 9, 16, 25, 36, 49, 64, 81, 100]"
   ]
  },
  {
   "cell_type": "code",
   "execution_count": 93,
   "id": "0dbb9eb4",
   "metadata": {},
   "outputs": [],
   "source": [
    "def retornaImpares(lista):\n",
    "    resultado = []\n",
    "    for i in lista:\n",
    "        if (i%2) != 0:\n",
    "            resultado.append(i)\n",
    "    print(resultado)"
   ]
  },
  {
   "cell_type": "code",
   "execution_count": 94,
   "id": "cf62cafe",
   "metadata": {},
   "outputs": [
    {
     "name": "stdout",
     "output_type": "stream",
     "text": [
      "[1, 9, 25, 49, 81]\n"
     ]
    }
   ],
   "source": [
    "retornaImpares(a)"
   ]
  },
  {
   "cell_type": "markdown",
   "id": "0c41aef2",
   "metadata": {},
   "source": [
    "#### 3) Peça para o usuário digitar uma palavra pelo teclado e determina se a palavra digitada é ou não um palíndromo. Um palíndromo é uma palavra que permanece igual se lida de traz pra frente."
   ]
  },
  {
   "cell_type": "code",
   "execution_count": 105,
   "id": "14cbf65e",
   "metadata": {},
   "outputs": [
    {
     "name": "stdout",
     "output_type": "stream",
     "text": [
      "Insira a palavrar a ser verificada: vitor\n"
     ]
    }
   ],
   "source": [
    "palavra = input('Insira a palavrar a ser verificada: ')"
   ]
  },
  {
   "cell_type": "code",
   "execution_count": 106,
   "id": "972808fc",
   "metadata": {},
   "outputs": [
    {
     "name": "stdout",
     "output_type": "stream",
     "text": [
      "Não é um palindromo\n"
     ]
    }
   ],
   "source": [
    "if (palavra) == (palavra[::-1]): \n",
    "    print('É um palindromo!')\n",
    "else: \n",
    "    print('Não é um palindromo')"
   ]
  },
  {
   "cell_type": "markdown",
   "id": "e2b3889e",
   "metadata": {},
   "source": [
    "#### 4) Dada as listas a seguir:\n",
    "\n",
    "primeirosNomes = ['Joao', 'Douglas', 'Lucas', 'José']\n",
    "\n",
    "sobreNomes = ['Soares', 'Souza', 'Silveira', 'Pedreira']\n",
    "\n",
    "idades = [19, 28, 25, 31]\n",
    "\n",
    "Faça um programa que imprima os dados na seguinte estrutura: \" - está com anos\""
   ]
  },
  {
   "cell_type": "code",
   "execution_count": 4,
   "id": "3a5fa0fe",
   "metadata": {},
   "outputs": [],
   "source": [
    "primeirosNomes = ['Joao', 'Douglas', 'Lucas', 'José']\n",
    "\n",
    "sobreNomes = ['Soares', 'Souza', 'Silveira', 'Pedreira']\n",
    "\n",
    "idades = [19, 28, 25, 31]"
   ]
  },
  {
   "cell_type": "code",
   "execution_count": 5,
   "id": "abd3bfaf",
   "metadata": {},
   "outputs": [
    {
     "name": "stdout",
     "output_type": "stream",
     "text": [
      "Joao Soares está com 19 anos\n",
      "Douglas Souza está com 28 anos\n",
      "Lucas Silveira está com 25 anos\n",
      "José Pedreira está com 31 anos\n"
     ]
    }
   ],
   "source": [
    "for i in range(0,4): \n",
    "    print(f\"{primeirosNomes[i]} {sobreNomes[i]} está com {idades[i]} anos\")"
   ]
  },
  {
   "cell_type": "markdown",
   "id": "a78eb1b1",
   "metadata": {},
   "source": [
    "#### 5) Escreva uma função que recebe uma lista e retorna uma nova lista sem elementos duplicados. Utilize um exemplo para testar sua função."
   ]
  },
  {
   "cell_type": "code",
   "execution_count": 114,
   "id": "4931a5ce",
   "metadata": {},
   "outputs": [],
   "source": [
    "def removeDuplicados(lista):\n",
    "    resultado = []\n",
    "    for i in lista: \n",
    "        if i not in resultado:\n",
    "            resultado.append(i)\n",
    "    print(resultado)"
   ]
  },
  {
   "cell_type": "code",
   "execution_count": 115,
   "id": "ce15618f",
   "metadata": {},
   "outputs": [],
   "source": [
    "ex = [ 1 , 1, 1, 1, 1, 3, 3, 3, 5, 6, 6, 7, 7, 8, 8, 8, 8]"
   ]
  },
  {
   "cell_type": "code",
   "execution_count": 116,
   "id": "4b7c1600",
   "metadata": {},
   "outputs": [
    {
     "name": "stdout",
     "output_type": "stream",
     "text": [
      "[1, 3, 5, 6, 7, 8]\n"
     ]
    }
   ],
   "source": [
    "removeDuplicados(ex)"
   ]
  },
  {
   "cell_type": "markdown",
   "id": "73f7facf",
   "metadata": {},
   "source": [
    "#### 6) Escreva um programa que lê o conteúdo do arquivo texto arquivo_texto.txt e imprime o seu conteúdo.\n",
    "Dica: leia documentação da função open(...), link: https://docs.python.org/3/library/functions.html#open"
   ]
  },
  {
   "cell_type": "code",
   "execution_count": 117,
   "id": "186090d0",
   "metadata": {},
   "outputs": [],
   "source": [
    "file = open(\"arquivo_texto.txt\", \"r\")"
   ]
  },
  {
   "cell_type": "code",
   "execution_count": 121,
   "id": "054e68cf",
   "metadata": {},
   "outputs": [
    {
     "name": "stdout",
     "output_type": "stream",
     "text": [
      "teste teste teste teste\n"
     ]
    }
   ],
   "source": [
    "print(file.read())"
   ]
  },
  {
   "cell_type": "code",
   "execution_count": 122,
   "id": "cb8ca3fd",
   "metadata": {},
   "outputs": [],
   "source": [
    "file.close()"
   ]
  },
  {
   "cell_type": "markdown",
   "id": "e6ff3db4",
   "metadata": {},
   "source": [
    "#### 7) Leia o arquivo person.json, faça o parsing e imprima seu conteúdo.\n",
    "Dica: leia a documentação do pacote json, link: https://docs.python.org/3/library/json.html"
   ]
  },
  {
   "cell_type": "code",
   "execution_count": 6,
   "id": "0ec0f683",
   "metadata": {},
   "outputs": [],
   "source": [
    "import json"
   ]
  },
  {
   "cell_type": "code",
   "execution_count": 7,
   "id": "5867ee13",
   "metadata": {},
   "outputs": [],
   "source": [
    "with open('person.json', 'r', encoding='utf8') as file:\n",
    "    dados = json.load(file)"
   ]
  },
  {
   "cell_type": "code",
   "execution_count": 10,
   "id": "ea5e0439",
   "metadata": {},
   "outputs": [
    {
     "name": "stdout",
     "output_type": "stream",
     "text": [
      "{'name': 'Fulano Da Silva', 'endereco': 'Rua Sem Nome, 31', 'startDateExecution': '2019-06-25 16:25:23.233', 'endDateExecution': '2019-06-25 16:25:23.331', 'siteId': 'BrasilDesktop', 'sitePage': '/', 'serverName': 'AS1332:10181', 'profileId': '8947071299', 'type': 'JSP_RENDERING', 'path': 'testado/com', 'performanceType': 'JSP_RENDERING'}\n"
     ]
    }
   ],
   "source": [
    "print(dados)\n",
    "file.close()"
   ]
  },
  {
   "cell_type": "markdown",
   "id": "3981ef0e",
   "metadata": {},
   "source": [
    "#### 8) Implemente a função my_map(list, f) que recebe uma lista como primeiro argumento e uma função como segundo argumento. Esta função aplica a função recebida para cada elemento da lista recebida retorna o resultado em uma nova lista.\n",
    "Teste sua função para saber se está ok."
   ]
  },
  {
   "cell_type": "code",
   "execution_count": 1,
   "id": "fa1ed71d",
   "metadata": {},
   "outputs": [],
   "source": [
    "def my_map(list, f):\n",
    "    resultado = []\n",
    "    for i in list:\n",
    "        resultado.append(f(i))\n",
    "    return resultado"
   ]
  },
  {
   "cell_type": "code",
   "execution_count": 2,
   "id": "c3263fbf",
   "metadata": {},
   "outputs": [],
   "source": [
    "def mais_dois(x):\n",
    "    x = x + 2\n",
    "    return x"
   ]
  },
  {
   "cell_type": "code",
   "execution_count": 3,
   "id": "3c5c2fdf",
   "metadata": {},
   "outputs": [],
   "source": [
    "ex = [ 1 , 1, 1, 1, 1, 3, 3, 3, 5, 6, 6, 7, 7, 8, 8, 8, 8]"
   ]
  },
  {
   "cell_type": "code",
   "execution_count": 4,
   "id": "b44f0a0f",
   "metadata": {},
   "outputs": [
    {
     "data": {
      "text/plain": [
       "[3, 3, 3, 3, 3, 5, 5, 5, 7, 8, 8, 9, 9, 10, 10, 10, 10]"
      ]
     },
     "execution_count": 4,
     "metadata": {},
     "output_type": "execute_result"
    }
   ],
   "source": [
    "lista_resultado = my_map(ex, mais_dois)\n",
    "lista_resultado"
   ]
  },
  {
   "cell_type": "markdown",
   "id": "4c9561d8",
   "metadata": {},
   "source": [
    "#### 9) Escreva uma função que recebe um número variável de parâmetros não nomeados e um número variado de parâmetros nomeados e imprime o valor de cada parâmetro recebido."
   ]
  },
  {
   "cell_type": "code",
   "execution_count": 19,
   "id": "8f4c2150",
   "metadata": {},
   "outputs": [],
   "source": [
    "def imprime(*args, **kwargs):\n",
    "    for i in args:\n",
    "        print(i)\n",
    "    for i in kwargs:\n",
    "        print(i)"
   ]
  },
  {
   "cell_type": "code",
   "execution_count": 20,
   "id": "5af2f488",
   "metadata": {},
   "outputs": [],
   "source": [
    "texto1 = 'teste'\n",
    "texto2 = 'testeteste'"
   ]
  },
  {
   "cell_type": "code",
   "execution_count": 21,
   "id": "1aa7ce8c",
   "metadata": {},
   "outputs": [
    {
     "name": "stdout",
     "output_type": "stream",
     "text": [
      "23\n",
      "vitor\n",
      "teste\n",
      "123\n",
      "testestesteste\n",
      "testeteste\n"
     ]
    }
   ],
   "source": [
    "imprime(23, 'vitor', texto1, 123, 'testestesteste', texto2)"
   ]
  },
  {
   "cell_type": "markdown",
   "id": "304c0154",
   "metadata": {},
   "source": [
    "##### 10) Implemente a classe Lampada. A classe Lâmpada recebe um booleano no seu construtor, True se a lâmpada estiver ligada, False caso esteja desligada. A classe Lampada possuí os seguintes métodos:\n",
    "\n",
    "• liga(): muda o estado da lâmpada para ligada\n",
    "\n",
    "• desliga(): muda o estado da lâmpada para desligada\n",
    "\n",
    "• esta_ligada(): retorna verdadeiro se a lâmpada estiver ligada, falso caso contrário"
   ]
  },
  {
   "cell_type": "code",
   "execution_count": 26,
   "id": "451ecf3c",
   "metadata": {},
   "outputs": [],
   "source": [
    "class Lampada(object):\n",
    "    def __init__(self):\n",
    "        self.ligada = False\n",
    "    \n",
    "    def liga(self):\n",
    "        if self.ligada != True:\n",
    "            self.ligada = True\n",
    "            print('A lâmpada foi ligada! ')\n",
    "        else:\n",
    "            print('A lâmpada já estava ligada. ')\n",
    "            \n",
    "    def desliga(self):\n",
    "        if self.ligada == True:\n",
    "            self.ligada = False\n",
    "            print('A lâmpada foi desligada! ')\n",
    "        else:\n",
    "            print('A lâmpada já estava desligada. ')\n",
    "    \n",
    "    def esta_acesa(self):\n",
    "        if self.ligada == True:\n",
    "            print('Está ligada.')\n",
    "            return True \n",
    "        else: \n",
    "            print('Está desligada.')\n",
    "            return False"
   ]
  },
  {
   "cell_type": "code",
   "execution_count": 28,
   "id": "dfe2e1e6",
   "metadata": {},
   "outputs": [],
   "source": [
    "lampada = Lampada()"
   ]
  },
  {
   "cell_type": "code",
   "execution_count": 29,
   "id": "9bb0d0c7",
   "metadata": {},
   "outputs": [
    {
     "name": "stdout",
     "output_type": "stream",
     "text": [
      "Está desligada.\n"
     ]
    },
    {
     "data": {
      "text/plain": [
       "False"
      ]
     },
     "execution_count": 29,
     "metadata": {},
     "output_type": "execute_result"
    }
   ],
   "source": [
    "lampada.esta_acesa()"
   ]
  },
  {
   "cell_type": "code",
   "execution_count": 31,
   "id": "5f2a38ef",
   "metadata": {},
   "outputs": [
    {
     "name": "stdout",
     "output_type": "stream",
     "text": [
      "A lâmpada já estava ligada. \n"
     ]
    }
   ],
   "source": [
    "lampada.liga()"
   ]
  },
  {
   "cell_type": "code",
   "execution_count": 32,
   "id": "6b27d726",
   "metadata": {},
   "outputs": [
    {
     "name": "stdout",
     "output_type": "stream",
     "text": [
      "A lâmpada foi desligada! \n"
     ]
    }
   ],
   "source": [
    "lampada.desliga()"
   ]
  },
  {
   "cell_type": "code",
   "execution_count": 33,
   "id": "890889cd",
   "metadata": {},
   "outputs": [
    {
     "name": "stdout",
     "output_type": "stream",
     "text": [
      "A lâmpada já estava desligada. \n"
     ]
    }
   ],
   "source": [
    "lampada.desliga()"
   ]
  },
  {
   "cell_type": "code",
   "execution_count": 34,
   "id": "9b6bfc7f",
   "metadata": {},
   "outputs": [
    {
     "name": "stdout",
     "output_type": "stream",
     "text": [
      "A lâmpada foi ligada! \n"
     ]
    }
   ],
   "source": [
    "lampada.liga()"
   ]
  },
  {
   "cell_type": "code",
   "execution_count": 35,
   "id": "d8101db4",
   "metadata": {},
   "outputs": [
    {
     "name": "stdout",
     "output_type": "stream",
     "text": [
      "Está ligada.\n"
     ]
    },
    {
     "data": {
      "text/plain": [
       "True"
      ]
     },
     "execution_count": 35,
     "metadata": {},
     "output_type": "execute_result"
    }
   ],
   "source": [
    "lampada.esta_acesa()"
   ]
  },
  {
   "cell_type": "markdown",
   "id": "a0fb704e",
   "metadata": {},
   "source": [
    "#### 11) Escreva um programa que leia do teclado uma sequência de número separados por vírgula (e.g. 2,4,5,6,1,6) e imprime a soma de todos eles."
   ]
  },
  {
   "cell_type": "code",
   "execution_count": 37,
   "id": "5d187614",
   "metadata": {},
   "outputs": [
    {
     "name": "stdout",
     "output_type": "stream",
     "text": [
      "Entre com a lista de numeros: 1,2,3,4,5,6,7\n"
     ]
    }
   ],
   "source": [
    "lista_numeros = input('Entre com a lista de numeros: ')"
   ]
  },
  {
   "cell_type": "code",
   "execution_count": 42,
   "id": "136c5f3c",
   "metadata": {},
   "outputs": [
    {
     "name": "stdout",
     "output_type": "stream",
     "text": [
      "28\n"
     ]
    }
   ],
   "source": [
    "resultado = 0\n",
    "for i in lista_numeros:\n",
    "    if i != ',':\n",
    "        resultado = resultado + int(i)\n",
    "print(resultado)\n"
   ]
  },
  {
   "cell_type": "markdown",
   "id": "84a882a4",
   "metadata": {},
   "source": [
    "####  12) Escreve uma função que recebe como parâmetro uma lista e retorna 3 listas: a lista recebida dividida em 3 partes iguais. Teste sua implementação\n",
    "\n",
    "b = [1, 2, 3, 4, 5, 6, 7, 8, 9, 10, 11, 12, 13]"
   ]
  },
  {
   "cell_type": "code",
   "execution_count": 24,
   "id": "2f7ee6f9",
   "metadata": {},
   "outputs": [],
   "source": [
    "b = [1, 2, 3, 4, 5, 6, 7, 8, 9, 10, 11, 12, 13]"
   ]
  },
  {
   "cell_type": "code",
   "execution_count": 25,
   "id": "edd608a0",
   "metadata": {},
   "outputs": [],
   "source": [
    "len_b = len(b)"
   ]
  },
  {
   "cell_type": "code",
   "execution_count": 26,
   "id": "373360b8",
   "metadata": {},
   "outputs": [],
   "source": [
    "def tres_listas(list):\n",
    "    len_b = len(b)\n",
    "    resultado = []\n",
    "    for i in range(3): \n",
    "        ini = int (i*(len_b/3))\n",
    "        fim = int ((i+1)*len_b/3)\n",
    "        resultado.append(b[ini:fim])\n",
    "    return resultado"
   ]
  },
  {
   "cell_type": "code",
   "execution_count": 27,
   "id": "b2daaa3c",
   "metadata": {},
   "outputs": [
    {
     "data": {
      "text/plain": [
       "[[1, 2, 3, 4], [5, 6, 7, 8], [9, 10, 11, 12, 13]]"
      ]
     },
     "execution_count": 27,
     "metadata": {},
     "output_type": "execute_result"
    }
   ],
   "source": [
    "tres_listas(b)"
   ]
  },
  {
   "cell_type": "markdown",
   "id": "a21d0fe9",
   "metadata": {},
   "source": [
    "#### 13) Dado o dicionário a seguir:\n",
    "\n",
    "speed = {'jan':47, 'feb':52, 'march':47, 'April':44, 'May':52, 'June':53, 'july':54, 'Aug':44, 'Sept':54}\n",
    "\n",
    "Crie uma lista com todos os valores (não as chaves!) e coloque numa lista de forma que não haja valores duplicados."
   ]
  },
  {
   "cell_type": "code",
   "execution_count": 56,
   "id": "d131a249",
   "metadata": {},
   "outputs": [
    {
     "data": {
      "text/plain": [
       "{'jan': 47,\n",
       " 'feb': 52,\n",
       " 'march': 47,\n",
       " 'April': 44,\n",
       " 'May': 52,\n",
       " 'June': 53,\n",
       " 'july': 54,\n",
       " 'Aug': 44,\n",
       " 'Sept': 54}"
      ]
     },
     "execution_count": 56,
     "metadata": {},
     "output_type": "execute_result"
    }
   ],
   "source": [
    "speed = {'jan':47, 'feb':52, 'march':47, 'April':44, 'May':52, 'June':53, 'july':54, 'Aug':44, 'Sept':54}\n",
    "speed"
   ]
  },
  {
   "cell_type": "code",
   "execution_count": 64,
   "id": "a20dda28",
   "metadata": {},
   "outputs": [
    {
     "data": {
      "text/plain": [
       "[47, 52, 47, 44, 52, 53, 54, 44, 54]"
      ]
     },
     "execution_count": 64,
     "metadata": {},
     "output_type": "execute_result"
    }
   ],
   "source": [
    "valores = list(speed.values())\n",
    "valores"
   ]
  },
  {
   "cell_type": "code",
   "execution_count": 67,
   "id": "8f8b9262",
   "metadata": {},
   "outputs": [],
   "source": [
    "resultado = []\n",
    "for i in valores:\n",
    "    if i not in resultado:\n",
    "        resultado.append(i)"
   ]
  },
  {
   "cell_type": "code",
   "execution_count": 68,
   "id": "7043d65a",
   "metadata": {},
   "outputs": [
    {
     "data": {
      "text/plain": [
       "[47, 52, 44, 53, 54]"
      ]
     },
     "execution_count": 68,
     "metadata": {},
     "output_type": "execute_result"
    }
   ],
   "source": [
    "resultado"
   ]
  },
  {
   "cell_type": "markdown",
   "id": "ebeb5633",
   "metadata": {},
   "source": [
    "####  14) Calcule o valor mínimo, valor máximo, valor médio e a mediana da lista gerada na célula abaixo:\n",
    "\n",
    "Obs.: Lembrem-se, para calcular a mediana a lista deve estar ordenada!"
   ]
  },
  {
   "cell_type": "code",
   "execution_count": 31,
   "id": "d71daf62",
   "metadata": {},
   "outputs": [],
   "source": [
    "import random # amostra aleatoriamente 50 números do intervalo 0...500 \n",
    "random_list = random.sample(range(500), 50)"
   ]
  },
  {
   "cell_type": "code",
   "execution_count": 32,
   "id": "466bebc3",
   "metadata": {},
   "outputs": [],
   "source": [
    "random_list.sort()"
   ]
  },
  {
   "cell_type": "code",
   "execution_count": 40,
   "id": "386bfcca",
   "metadata": {},
   "outputs": [
    {
     "name": "stdout",
     "output_type": "stream",
     "text": [
      "Max: 497 \n",
      "Min: 13 \n",
      "Media: 228.26 \n",
      "Mediana: 206\n"
     ]
    }
   ],
   "source": [
    "media = sum(random_list)/len(random_list)\n",
    "mediana = int(len(random_list)/2) \n",
    "mediana = random_list[mediana]\n",
    "print(f'Max: {max(random_list)} \\nMin: {min(random_list)} \\nMedia: {media} \\nMediana: {mediana}') "
   ]
  },
  {
   "cell_type": "markdown",
   "id": "3414b825",
   "metadata": {},
   "source": [
    "\n",
    "#### 15 ) Imprima a lista da célula abaixo de trás para frente.\n",
    "\n",
    "a = [1, 1, 2, 3, 5, 8, 13, 21, 34, 55, 89]"
   ]
  },
  {
   "cell_type": "code",
   "execution_count": 91,
   "id": "f73b6756",
   "metadata": {},
   "outputs": [],
   "source": [
    "a = [1, 1, 2, 3, 5, 8, 13, 21, 34, 55, 89]"
   ]
  },
  {
   "cell_type": "code",
   "execution_count": 94,
   "id": "082e9dad",
   "metadata": {},
   "outputs": [],
   "source": [
    "a_inverso = a[::-1]"
   ]
  },
  {
   "cell_type": "code",
   "execution_count": 95,
   "id": "28415ecb",
   "metadata": {},
   "outputs": [
    {
     "data": {
      "text/plain": [
       "[89, 55, 34, 21, 13, 8, 5, 3, 2, 1, 1]"
      ]
     },
     "execution_count": 95,
     "metadata": {},
     "output_type": "execute_result"
    }
   ],
   "source": [
    "a_inverso"
   ]
  },
  {
   "cell_type": "code",
   "execution_count": 106,
   "id": "34fb078d",
   "metadata": {},
   "outputs": [
    {
     "name": "stdout",
     "output_type": "stream",
     "text": [
      "1\n",
      "1\n",
      "2\n",
      "3\n",
      "5\n",
      "8\n",
      "13\n",
      "21\n",
      "34\n",
      "55\n",
      "89\n"
     ]
    }
   ],
   "source": [
    "for i in a:\n",
    "    print(i)"
   ]
  },
  {
   "cell_type": "code",
   "execution_count": null,
   "id": "ccf08853",
   "metadata": {},
   "outputs": [],
   "source": []
  }
 ],
 "metadata": {
  "kernelspec": {
   "display_name": "Python 3 (ipykernel)",
   "language": "python",
   "name": "python3"
  },
  "language_info": {
   "codemirror_mode": {
    "name": "ipython",
    "version": 3
   },
   "file_extension": ".py",
   "mimetype": "text/x-python",
   "name": "python",
   "nbconvert_exporter": "python",
   "pygments_lexer": "ipython3",
   "version": "3.9.7"
  }
 },
 "nbformat": 4,
 "nbformat_minor": 5
}

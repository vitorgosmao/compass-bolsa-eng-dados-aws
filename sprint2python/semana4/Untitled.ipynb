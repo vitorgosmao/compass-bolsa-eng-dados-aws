{
 "cells": [
  {
   "cell_type": "markdown",
   "id": "9f06e09f",
   "metadata": {},
   "source": [
    "### Exercício 1 \n",
    "#### Implemente duas classes \"Pato\" e \"Pardal\" que herdem de uma classe \"Passaro\" a habilidade de \"voar\" e \"emitir som\", porém, tanto \"Pato\" quanto \"Pardal\" devem emitir sons diferentes (de maneira escrita) no console. \n",
    "\n",
    "#### Exemplo: Pato voa e faz “quack quack” ePardal voa e faz “piu piu”."
   ]
  },
  {
   "cell_type": "code",
   "execution_count": 1,
   "id": "aafbb56b",
   "metadata": {},
   "outputs": [],
   "source": [
    "class Passaro:\n",
    "    def voar(self):\n",
    "        return \"voa\"\n",
    "    \n",
    "    def emitir_som(self):\n",
    "        pass"
   ]
  },
  {
   "cell_type": "code",
   "execution_count": 2,
   "id": "6c784146",
   "metadata": {},
   "outputs": [],
   "source": [
    "class Pardal(Passaro):\n",
    "    def emitir_som(self):\n",
    "        return \"piu piu\""
   ]
  },
  {
   "cell_type": "code",
   "execution_count": 3,
   "id": "83f246d8",
   "metadata": {},
   "outputs": [],
   "source": [
    "class Pato(Passaro):\n",
    "    def emitir_som(self):\n",
    "        return \"quack quack\""
   ]
  },
  {
   "cell_type": "code",
   "execution_count": 4,
   "id": "d33883b5",
   "metadata": {},
   "outputs": [],
   "source": [
    "pardal = Pardal()\n",
    "pato = Pato()"
   ]
  },
  {
   "cell_type": "code",
   "execution_count": 10,
   "id": "892781d3",
   "metadata": {},
   "outputs": [
    {
     "data": {
      "text/plain": [
       "'Pato voa e faz quack quack e Pardal voa e faz piu piu.'"
      ]
     },
     "execution_count": 10,
     "metadata": {},
     "output_type": "execute_result"
    }
   ],
   "source": [
    "f\"Pato {pato.voar()} e faz {pato.emitir_som()} e Pardal {pardal.voar()} e faz {pardal.emitir_som()}.\""
   ]
  },
  {
   "cell_type": "markdown",
   "id": "54efd309",
   "metadata": {},
   "source": [
    "### Exercício 2\n",
    "#### Crie uma classe \"Pessoa\" que tenha um atributo privado \"nome\" e um atributo publico \"id\". Crie uma função que atribua um valor a \"nome\" e uma função que retorne o valor de \"nome\". \n",
    "#### Importante: Para atributos privados utilizamos “__” Ex: __atributo"
   ]
  },
  {
   "cell_type": "code",
   "execution_count": 25,
   "id": "3d7d7367",
   "metadata": {},
   "outputs": [],
   "source": [
    "class Pessoa:\n",
    "    def __init__(self, nome):\n",
    "        self.__nome = nome\n",
    "    \n",
    "    def set_id(self, id):\n",
    "        self.id = id\n",
    "        \n",
    "    def get_nome(self):\n",
    "        return self.__nome"
   ]
  },
  {
   "cell_type": "code",
   "execution_count": 26,
   "id": "9f3d7f13",
   "metadata": {},
   "outputs": [],
   "source": [
    "vitor = Pessoa(\"Vitor\")"
   ]
  },
  {
   "cell_type": "code",
   "execution_count": 27,
   "id": "6d4a991a",
   "metadata": {},
   "outputs": [
    {
     "data": {
      "text/plain": [
       "'Vitor'"
      ]
     },
     "execution_count": 27,
     "metadata": {},
     "output_type": "execute_result"
    }
   ],
   "source": [
    "vitor.get_nome()"
   ]
  },
  {
   "cell_type": "markdown",
   "id": "222493dd",
   "metadata": {},
   "source": [
    "### Exercício 3\n",
    "#### Crie uma classe \"Calculo\" que contenha um metodo que aceita dois parametros, X e Y, e retorne a soma dos dois. Nessa mesma classe, implemente um metodo de subtração, que aceita dois parametros, X e Y, e retorne a subtração dos dois (resultados negativos são permitidos). "
   ]
  },
  {
   "cell_type": "code",
   "execution_count": 28,
   "id": "4679c8a0",
   "metadata": {},
   "outputs": [],
   "source": [
    "class Calculo:\n",
    "    def sum(self, x, y):\n",
    "        return x + y\n",
    "    def sub(self, x, y):\n",
    "        return x - y"
   ]
  },
  {
   "cell_type": "code",
   "execution_count": 29,
   "id": "f691908e",
   "metadata": {},
   "outputs": [],
   "source": [
    "calculadora = Calculo()"
   ]
  },
  {
   "cell_type": "code",
   "execution_count": 33,
   "id": "018b7414",
   "metadata": {},
   "outputs": [
    {
     "name": "stdout",
     "output_type": "stream",
     "text": [
      "10 -10\n"
     ]
    }
   ],
   "source": [
    "print(calculadora.sum(5,5), calculadora.sub(5, 15))"
   ]
  },
  {
   "cell_type": "markdown",
   "id": "98cdb6d4",
   "metadata": {},
   "source": [
    "### Exercício 4\n",
    "#### Crie uma classe \"Ordenadora\" que cotenha um atributo \"listaBaguncada\" e que contenha os metodos \"ordenacaoCrescente\" e \"ordenacaoDecrescente\". Instancie um objeto chamado 'crescente' dessa classe \"Ordenadora\" que tenha como \"listaBaguncada\" a lista [3,4,2,1,5] e instancie um outro objeto, 'decrescente' dessa mesma classe com uma outra \"listaBaguncada\" sendo [9,7,6,8]. \n",
    "#### Para o primeiro objeto citado, use o metodo \"ordenacaoCrescente\" e para o segundo objeto, use o metodo \"ordenacaoDecrescente\". "
   ]
  },
  {
   "cell_type": "code",
   "execution_count": 48,
   "id": "f1eb4527",
   "metadata": {},
   "outputs": [],
   "source": [
    "class Ordenadora:\n",
    "    listaBaguncada = []\n",
    "    \n",
    "    def ordenacaoCrescente(self, listaBaguncada):\n",
    "        return print(listaBaguncada.sort())\n",
    "    \n",
    "    def ordenacaoDecrescente(self, listaBaguncada):\n",
    "        self.listaBaguncada.sort()\n",
    "        return print (listaBaguncada[::-1])"
   ]
  },
  {
   "cell_type": "code",
   "execution_count": 49,
   "id": "cedff5a1",
   "metadata": {},
   "outputs": [],
   "source": [
    "crescente = Ordenadora()\n",
    "crescente.listaBaguncada = [3,4,2,1,5]"
   ]
  },
  {
   "cell_type": "code",
   "execution_count": 50,
   "id": "123e3ac9",
   "metadata": {},
   "outputs": [
    {
     "data": {
      "text/plain": [
       "<bound method Ordenadora.ordenacaoCrescente of <__main__.Ordenadora object at 0x000001F07662BC40>>"
      ]
     },
     "execution_count": 50,
     "metadata": {},
     "output_type": "execute_result"
    }
   ],
   "source": [
    "crescente.ordenacaoCrescente"
   ]
  },
  {
   "cell_type": "code",
   "execution_count": null,
   "id": "06f947d4",
   "metadata": {},
   "outputs": [],
   "source": []
  }
 ],
 "metadata": {
  "kernelspec": {
   "display_name": "Python 3 (ipykernel)",
   "language": "python",
   "name": "python3"
  },
  "language_info": {
   "codemirror_mode": {
    "name": "ipython",
    "version": 3
   },
   "file_extension": ".py",
   "mimetype": "text/x-python",
   "name": "python",
   "nbconvert_exporter": "python",
   "pygments_lexer": "ipython3",
   "version": "3.10.4"
  }
 },
 "nbformat": 4,
 "nbformat_minor": 5
}

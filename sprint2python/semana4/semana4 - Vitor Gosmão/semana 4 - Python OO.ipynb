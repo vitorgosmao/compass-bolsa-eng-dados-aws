{
 "cells": [
  {
   "cell_type": "markdown",
   "id": "9f06e09f",
   "metadata": {},
   "source": [
    "### Exercício 1 \n",
    "#### Implemente duas classes \"Pato\" e \"Pardal\" que herdem de uma classe \"Passaro\" a habilidade de \"voar\" e \"emitir som\", porém, tanto \"Pato\" quanto \"Pardal\" devem emitir sons diferentes (de maneira escrita) no console. \n",
    "\n",
    "#### Exemplo: Pato voa e faz “quack quack” ePardal voa e faz “piu piu”."
   ]
  },
  {
   "cell_type": "code",
   "execution_count": 1,
   "id": "aafbb56b",
   "metadata": {},
   "outputs": [],
   "source": [
    "class Passaro:\n",
    "    def voar(self):\n",
    "        return \"voa\"\n",
    "    \n",
    "    def emitir_som(self):\n",
    "        pass"
   ]
  },
  {
   "cell_type": "code",
   "execution_count": 2,
   "id": "6c784146",
   "metadata": {},
   "outputs": [],
   "source": [
    "class Pardal(Passaro):\n",
    "    def emitir_som(self):\n",
    "        return \"piu piu\""
   ]
  },
  {
   "cell_type": "code",
   "execution_count": 3,
   "id": "83f246d8",
   "metadata": {},
   "outputs": [],
   "source": [
    "class Pato(Passaro):\n",
    "    def emitir_som(self):\n",
    "        return \"quack quack\""
   ]
  },
  {
   "cell_type": "code",
   "execution_count": 4,
   "id": "d33883b5",
   "metadata": {},
   "outputs": [],
   "source": [
    "pardal = Pardal()\n",
    "pato = Pato()"
   ]
  },
  {
   "cell_type": "code",
   "execution_count": 10,
   "id": "892781d3",
   "metadata": {},
   "outputs": [
    {
     "data": {
      "text/plain": [
       "'Pato voa e faz quack quack e Pardal voa e faz piu piu.'"
      ]
     },
     "execution_count": 10,
     "metadata": {},
     "output_type": "execute_result"
    }
   ],
   "source": [
    "f\"Pato {pato.voar()} e faz {pato.emitir_som()} e Pardal {pardal.voar()} e faz {pardal.emitir_som()}.\""
   ]
  },
  {
   "cell_type": "markdown",
   "id": "54efd309",
   "metadata": {},
   "source": [
    "### Exercício 2\n",
    "#### Crie uma classe \"Pessoa\" que tenha um atributo privado \"nome\" e um atributo publico \"id\". Crie uma função que atribua um valor a \"nome\" e uma função que retorne o valor de \"nome\". \n",
    "#### Importante: Para atributos privados utilizamos “__” Ex: __atributo"
   ]
  },
  {
   "cell_type": "code",
   "execution_count": 3,
   "id": "3d7d7367",
   "metadata": {},
   "outputs": [],
   "source": [
    "class Pessoa:\n",
    "    def __init__(self):\n",
    "        pass\n",
    "    def set_id(self, id):\n",
    "        self.id = id\n",
    "    \n",
    "    def set_name(self, nome):\n",
    "        self.__nome = nome\n",
    "    \n",
    "    def get_nome(self):\n",
    "        return self.__nome"
   ]
  },
  {
   "cell_type": "code",
   "execution_count": 4,
   "id": "9f3d7f13",
   "metadata": {},
   "outputs": [
    {
     "data": {
      "text/plain": [
       "'Vitor'"
      ]
     },
     "execution_count": 4,
     "metadata": {},
     "output_type": "execute_result"
    }
   ],
   "source": [
    "vitor = Pessoa()\n",
    "vitor.set_name('Vitor')\n",
    "vitor.get_nome()"
   ]
  },
  {
   "cell_type": "code",
   "execution_count": null,
   "id": "ee794d1d",
   "metadata": {},
   "outputs": [],
   "source": []
  },
  {
   "cell_type": "markdown",
   "id": "222493dd",
   "metadata": {},
   "source": [
    "### Exercício 3\n",
    "#### Crie uma classe \"Calculo\" que contenha um metodo que aceita dois parametros, X e Y, e retorne a soma dos dois. Nessa mesma classe, implemente um metodo de subtração, que aceita dois parametros, X e Y, e retorne a subtração dos dois (resultados negativos são permitidos). "
   ]
  },
  {
   "cell_type": "code",
   "execution_count": 28,
   "id": "4679c8a0",
   "metadata": {},
   "outputs": [],
   "source": [
    "class Calculo:\n",
    "    def sum(self, x, y):\n",
    "        return x + y\n",
    "    def sub(self, x, y):\n",
    "        return x - y"
   ]
  },
  {
   "cell_type": "code",
   "execution_count": 29,
   "id": "f691908e",
   "metadata": {},
   "outputs": [],
   "source": [
    "calculadora = Calculo()"
   ]
  },
  {
   "cell_type": "code",
   "execution_count": 33,
   "id": "018b7414",
   "metadata": {},
   "outputs": [
    {
     "name": "stdout",
     "output_type": "stream",
     "text": [
      "10 -10\n"
     ]
    }
   ],
   "source": [
    "print(calculadora.sum(5,5), calculadora.sub(5, 15))"
   ]
  },
  {
   "cell_type": "markdown",
   "id": "98cdb6d4",
   "metadata": {},
   "source": [
    "### Exercício 4\n",
    "#### Crie uma classe \"Ordenadora\" que cotenha um atributo \"listaBaguncada\" e que contenha os metodos \"ordenacaoCrescente\" e \"ordenacaoDecrescente\". Instancie um objeto chamado 'crescente' dessa classe \"Ordenadora\" que tenha como \"listaBaguncada\" a lista [3,4,2,1,5] e instancie um outro objeto, 'decrescente' dessa mesma classe com uma outra \"listaBaguncada\" sendo [9,7,6,8]. \n",
    "#### Para o primeiro objeto citado, use o metodo \"ordenacaoCrescente\" e para o segundo objeto, use o metodo \"ordenacaoDecrescente\". "
   ]
  },
  {
   "cell_type": "code",
   "execution_count": 17,
   "id": "f1eb4527",
   "metadata": {},
   "outputs": [],
   "source": [
    "class Ordenadora:\n",
    "    def __init__(self, listaBaguncada):\n",
    "        self.listaBaguncada = listaBaguncada\n",
    "    \n",
    "    def ordenacaoCrescente(self):\n",
    "        self.listaBaguncada.sort()\n",
    "        return self.listaBaguncada\n",
    "    \n",
    "    def ordenacaoDecrescente(self):\n",
    "        self.listaBaguncada.sort(reverse=True)\n",
    "        return self.listaBaguncada"
   ]
  },
  {
   "cell_type": "code",
   "execution_count": 19,
   "id": "cedff5a1",
   "metadata": {},
   "outputs": [
    {
     "data": {
      "text/plain": [
       "[1, 2, 3, 4, 5]"
      ]
     },
     "execution_count": 19,
     "metadata": {},
     "output_type": "execute_result"
    }
   ],
   "source": [
    "crescente = Ordenadora([3,4,2,1,5])\n",
    "decrescente = Ordenadora([9,7,6,8])\n",
    "crescente.ordenacaoCrescente()"
   ]
  },
  {
   "cell_type": "code",
   "execution_count": 20,
   "id": "06f947d4",
   "metadata": {},
   "outputs": [
    {
     "data": {
      "text/plain": [
       "[9, 8, 7, 6]"
      ]
     },
     "execution_count": 20,
     "metadata": {},
     "output_type": "execute_result"
    }
   ],
   "source": [
    "decrescente.ordenacaoDecrescente()"
   ]
  },
  {
   "cell_type": "markdown",
   "id": "1758554d",
   "metadata": {},
   "source": [
    "### Exercício 5\n",
    "#### Crie uma classe \"Avião\" que possua os atributos “modelo”, \"velocidade_maxima\", “cor” e “capacidade”.\n",
    "#### Defina o atributo de sua classe cor, de maneira que todos as instâncias de sua classe avião sejam da cor “azul”.\n",
    "#### Após isso, a partir de entradas do teclado (inputs), instancie e armazene em uma lista 3 objetos da classe avião.\n",
    "#### Ao final, itere pela lista imprimindo cada um dos objetos no formato:\n",
    "#### “O avião de modelo “x” possui uma velocidade máxima de “y”, capacidade para “z” passageiros e é da cor “w”.\n",
    "#### Sendo x, y, z e w cada um dos atributos da classe “Avião”."
   ]
  },
  {
   "cell_type": "code",
   "execution_count": 20,
   "id": "6cdfdc5d",
   "metadata": {},
   "outputs": [],
   "source": [
    "class Aviao:\n",
    "    cor = 'azul'\n",
    "    def __init__(self, modelo, velocidade_maxima, capacidade):\n",
    "        self.modelo = modelo\n",
    "        self.velocidade_maxima = velocidade_maxima\n",
    "        self.capacidade = capacidade\n",
    " "
   ]
  },
  {
   "cell_type": "code",
   "execution_count": 22,
   "id": "7a7f62e6",
   "metadata": {},
   "outputs": [
    {
     "name": "stdout",
     "output_type": "stream",
     "text": [
      "Insira o modelo do avião 1:UM\n",
      "Insira a velocidade maxima do avião 1:1000\n",
      "Insira a capacidade do avião 1:100\n",
      "Insira o modelo do avião 2:DOIS\n",
      "Insira a velocidade maxima do avião 2:2000\n",
      "Insira a capacidade do avião 2:200\n",
      "Insira o modelo do avião 3:TRES\n",
      "Insira a velocidade maxima do avião 3:3000\n",
      "Insira a capacidade do avião 3:300\n"
     ]
    }
   ],
   "source": [
    "list = []\n",
    "for i in range(3):\n",
    "    modelo = input(f'Insira o modelo do avião {i+1}:')\n",
    "    velocidade_maxima = int(input(f'Insira a velocidade maxima do avião {i+1}:'))\n",
    "    capacidade = int(input(f'Insira a capacidade do avião {i+1}:'))\n",
    "    list.append(Aviao(modelo, velocidade_maxima, capacidade))"
   ]
  },
  {
   "cell_type": "code",
   "execution_count": 23,
   "id": "d3a56d38",
   "metadata": {},
   "outputs": [
    {
     "name": "stdout",
     "output_type": "stream",
     "text": [
      "O avião de modelo UM possui uma velocidade máxima de 1000, capacidade para 100 passageiros e é da cor azul\n",
      "O avião de modelo DOIS possui uma velocidade máxima de 2000, capacidade para 200 passageiros e é da cor azul\n",
      "O avião de modelo TRES possui uma velocidade máxima de 3000, capacidade para 300 passageiros e é da cor azul\n"
     ]
    }
   ],
   "source": [
    "for obj in list:\n",
    "    print(f'O avião de modelo {obj.modelo} possui uma velocidade máxima de {obj.velocidade_maxima}, capacidade para {obj.capacidade} passageiros e é da cor {obj.cor}')"
   ]
  },
  {
   "cell_type": "code",
   "execution_count": null,
   "id": "cf7fb008",
   "metadata": {},
   "outputs": [],
   "source": []
  }
 ],
 "metadata": {
  "kernelspec": {
   "display_name": "Python 3 (ipykernel)",
   "language": "python",
   "name": "python3"
  },
  "language_info": {
   "codemirror_mode": {
    "name": "ipython",
    "version": 3
   },
   "file_extension": ".py",
   "mimetype": "text/x-python",
   "name": "python",
   "nbconvert_exporter": "python",
   "pygments_lexer": "ipython3",
   "version": "3.9.7"
  }
 },
 "nbformat": 4,
 "nbformat_minor": 5
}

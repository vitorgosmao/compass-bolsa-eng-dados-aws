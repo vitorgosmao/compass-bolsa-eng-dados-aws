{
 "cells": [
  {
   "cell_type": "code",
   "execution_count": 2,
   "id": "f2c4d41a",
   "metadata": {},
   "outputs": [],
   "source": [
    "file = open('actors.csv', 'r')\n",
    "data = file.read()\n",
    "data = data.replace('\"Robert Downey, Jr.\"','Robert Downey Jr.')\n",
    "data = data.replace('\\n',',')"
   ]
  },
  {
   "cell_type": "code",
   "execution_count": 3,
   "id": "3c7f561b",
   "metadata": {},
   "outputs": [
    {
     "data": {
      "text/plain": [
       "['Actor',\n",
       " 'Total Gross',\n",
       " 'Number of Movies',\n",
       " 'Average per Movie',\n",
       " '#1 Movie',\n",
       " 'Gross',\n",
       " 'Harrison Ford',\n",
       " '4871.70 ',\n",
       " '41',\n",
       " '118.80 ',\n",
       " 'Star Wars: The Force Awakens',\n",
       " '936.70 ',\n",
       " 'Samuel L. Jackson',\n",
       " '4772.80 ',\n",
       " '69',\n",
       " '69.20 ',\n",
       " 'The Avengers',\n",
       " '623.40 ',\n",
       " 'Morgan Freeman',\n",
       " '4468.30 ',\n",
       " '61',\n",
       " '73.30 ',\n",
       " 'The Dark Knight',\n",
       " '534.90 ',\n",
       " 'Tom Hanks',\n",
       " '4340.80 ',\n",
       " '44',\n",
       " '98.70 ',\n",
       " 'Toy Story 3',\n",
       " '415.00 ',\n",
       " 'Robert Downey Jr.',\n",
       " '3947.30 ',\n",
       " '53',\n",
       " '74.50 ',\n",
       " 'The Avengers',\n",
       " '623.40 ',\n",
       " 'Eddie Murphy',\n",
       " '3810.40 ',\n",
       " '38',\n",
       " '100.30 ',\n",
       " 'Shrek 2',\n",
       " '441.20 ',\n",
       " 'Tom Cruise',\n",
       " '3587.20 ',\n",
       " '36',\n",
       " '99.60 ',\n",
       " 'War of the Worlds',\n",
       " '234.30 ',\n",
       " 'Johnny Depp',\n",
       " '3368.60 ',\n",
       " '45',\n",
       " '74.90 ',\n",
       " \"Dead Man's Chest\",\n",
       " '423.30 ',\n",
       " 'Michael Caine',\n",
       " '3351.50 ',\n",
       " '58',\n",
       " '57.80 ',\n",
       " 'The Dark Knight',\n",
       " '534.90 ',\n",
       " 'Scarlett Johansson',\n",
       " '3341.20 ',\n",
       " '37',\n",
       " '90.30 ',\n",
       " 'The Avengers',\n",
       " '623.40 ',\n",
       " 'Gary Oldman',\n",
       " '3294.00 ',\n",
       " '38',\n",
       " '86.70',\n",
       " 'The Dark Knight',\n",
       " '534.90 ',\n",
       " 'Robin Williams',\n",
       " '3279.30 ',\n",
       " '49',\n",
       " '66.90 ',\n",
       " 'Night at the Museum',\n",
       " '250.90 ',\n",
       " 'Bruce Willis',\n",
       " '3189.40 ',\n",
       " '60',\n",
       " '53.20 ',\n",
       " 'Sixth Sense',\n",
       " '293.50 ',\n",
       " 'Stellan Skarsgard',\n",
       " '3175.00 ',\n",
       " '43',\n",
       " '73.80 ',\n",
       " 'The Avengers',\n",
       " '623.40 ',\n",
       " 'Anthony Daniels',\n",
       " '3162.90 ',\n",
       " '7',\n",
       " '451.80 ',\n",
       " 'Star Wars: The Force Awakens',\n",
       " '936.70 ',\n",
       " 'Ian McKellen',\n",
       " '3150.40 ',\n",
       " '31',\n",
       " '101.60 ',\n",
       " 'Return of the King',\n",
       " '377.80 ',\n",
       " 'Will Smith',\n",
       " '3149.10 ',\n",
       " '24',\n",
       " '131.20 ',\n",
       " 'Independence Day',\n",
       " '306.20 ',\n",
       " 'Stanley Tucci',\n",
       " '3123.90 ',\n",
       " '50',\n",
       " '62.50 ',\n",
       " 'Catching Fire',\n",
       " '424.70 ',\n",
       " 'Matt Damon',\n",
       " '3107.30 ',\n",
       " '39',\n",
       " '79.70 ',\n",
       " 'The Martian',\n",
       " '228.40 ',\n",
       " 'Robert DeNiro',\n",
       " '3081.30 ',\n",
       " '79',\n",
       " '39.00 ',\n",
       " 'Meet the Fockers',\n",
       " '279.30 ',\n",
       " 'Cameron Diaz',\n",
       " '3031.70 ',\n",
       " '34',\n",
       " '89.20 ',\n",
       " 'Shrek 2',\n",
       " '441.20 ',\n",
       " 'Liam Neeson',\n",
       " '2942.70 ',\n",
       " '63',\n",
       " '46.70 ',\n",
       " 'The Phantom Menace',\n",
       " '474.50 ',\n",
       " 'Andy Serkis',\n",
       " '2890.60 ',\n",
       " '23',\n",
       " '125.70 ',\n",
       " 'Star Wars: The Force Awakens',\n",
       " '936.70 ',\n",
       " 'Don Cheadle',\n",
       " '2885.40 ',\n",
       " '34',\n",
       " '84.90 ',\n",
       " 'Avengers: Age of Ultron',\n",
       " '459.00 ',\n",
       " 'Ben Stiller',\n",
       " '2827.00 ',\n",
       " '37',\n",
       " '76.40 ',\n",
       " 'Meet the Fockers',\n",
       " '279.30 ',\n",
       " 'Helena Bonham Carter',\n",
       " '2822.00 ',\n",
       " '36',\n",
       " '78.40 ',\n",
       " 'Harry Potter / Deathly Hallows (P2)',\n",
       " '381.00 ',\n",
       " 'Orlando Bloom',\n",
       " '2815.80 ',\n",
       " '17',\n",
       " '165.60 ',\n",
       " \"Dead Man's Chest\",\n",
       " '423.30 ',\n",
       " 'Woody Harrelson',\n",
       " '2815.80 ',\n",
       " '50',\n",
       " '56.30 ',\n",
       " 'Catching Fire',\n",
       " '424.70 ',\n",
       " 'Cate Blanchett',\n",
       " '2802.60 ',\n",
       " '39',\n",
       " '71.90 ',\n",
       " 'Return of the King',\n",
       " '377.80 ',\n",
       " 'Julia Roberts',\n",
       " '2735.30 ',\n",
       " '42',\n",
       " '65.10 ',\n",
       " \"Ocean's Eleven\",\n",
       " '183.40 ',\n",
       " 'Elizabeth Banks',\n",
       " '2726.30 ',\n",
       " '35',\n",
       " '77.90 ',\n",
       " 'Catching Fire',\n",
       " '424.70 ',\n",
       " 'Ralph Fiennes',\n",
       " '2715.30 ',\n",
       " '36',\n",
       " '75.40 ',\n",
       " 'Harry Potter / Deathly Hallows (P2)',\n",
       " '381.00 ',\n",
       " 'Emma Watson',\n",
       " '2681.90 ',\n",
       " '17',\n",
       " '157.80 ',\n",
       " 'Harry Potter / Deathly Hallows (P2)',\n",
       " '381.00 ',\n",
       " 'Tommy Lee Jones',\n",
       " '2681.30 ',\n",
       " '46',\n",
       " '58.30 ',\n",
       " 'Men in Black',\n",
       " '250.70 ',\n",
       " 'Brad Pitt',\n",
       " '2680.90 ',\n",
       " '40',\n",
       " '67.00 ',\n",
       " 'World War Z',\n",
       " '202.40 ',\n",
       " 'Adam Sandler',\n",
       " '2661.00 ',\n",
       " '32',\n",
       " '83.20 ',\n",
       " 'Hotel Transylvania 2',\n",
       " '169.70 ',\n",
       " 'Daniel Radcliffe',\n",
       " '2634.40 ',\n",
       " '17',\n",
       " '155.00 ',\n",
       " 'Harry Potter / Deathly Hallows (P2)',\n",
       " '381.00 ',\n",
       " 'Jonah Hill',\n",
       " '2605.10 ',\n",
       " '29',\n",
       " '89.80 ',\n",
       " 'The LEGO Movie',\n",
       " '257.80 ',\n",
       " 'Owen Wilson',\n",
       " '2602.30 ',\n",
       " '39',\n",
       " '66.70 ',\n",
       " 'Night at the Museum',\n",
       " '250.90 ',\n",
       " 'Idris Elba',\n",
       " '2580.60 ',\n",
       " '26',\n",
       " '99.30 ',\n",
       " 'Avengers: Age of Ultron',\n",
       " '459.00 ',\n",
       " 'Bradley Cooper',\n",
       " '2557.70 ',\n",
       " '25',\n",
       " '102.30 ',\n",
       " 'American Sniper',\n",
       " '350.10 ',\n",
       " 'Mark Wahlberg',\n",
       " '2549.80 ',\n",
       " '36',\n",
       " '70.80 ',\n",
       " 'Transformers 4',\n",
       " '245.40 ',\n",
       " 'Jim Carrey',\n",
       " '2545.20 ',\n",
       " '27',\n",
       " '94.30 ',\n",
       " 'The Grinch',\n",
       " '260.00 ',\n",
       " 'Dustin Hoffman',\n",
       " '2522.10 ',\n",
       " '43',\n",
       " '58.70 ',\n",
       " 'Meet the Fockers',\n",
       " '279.30 ',\n",
       " 'Leonardo DiCaprio',\n",
       " '2518.30 ',\n",
       " '25',\n",
       " '100.70 ',\n",
       " 'Titanic',\n",
       " '658.70 ',\n",
       " 'Jeremy Renner',\n",
       " '2500.30 ',\n",
       " '21',\n",
       " '119.10 ',\n",
       " 'The Avengers',\n",
       " '623.40 ',\n",
       " 'Philip Seymour Hoffman',\n",
       " '2463.70 ',\n",
       " '40',\n",
       " '61.60 ',\n",
       " 'Catching Fire',\n",
       " '424.70 ',\n",
       " 'Sandra Bullock',\n",
       " '2462.60 ',\n",
       " '35',\n",
       " '70.40 ',\n",
       " 'Minions',\n",
       " '336.00 ',\n",
       " 'Chris Evans',\n",
       " '2457.80 ',\n",
       " '23',\n",
       " '106.90 ',\n",
       " 'The Avengers',\n",
       " '623.40 ',\n",
       " 'Anne Hathaway',\n",
       " '2416.50 ',\n",
       " '25',\n",
       " '96.70 ',\n",
       " 'The Dark Knight Rises',\n",
       " '448.10 ']"
      ]
     },
     "execution_count": 3,
     "metadata": {},
     "output_type": "execute_result"
    }
   ],
   "source": [
    "data = data.split(',')\n",
    "data"
   ]
  },
  {
   "cell_type": "code",
   "execution_count": 4,
   "id": "c8fcbd74",
   "metadata": {},
   "outputs": [],
   "source": [
    "head = data[0:6]\n",
    "del data[:6]"
   ]
  },
  {
   "cell_type": "code",
   "execution_count": 5,
   "id": "b52e7920",
   "metadata": {},
   "outputs": [],
   "source": [
    "class Actor:\n",
    "    def __init__(self, actor, total_gross, n_movies, avg_per_movie, n1_movie, gross):\n",
    "        self.actor = actor\n",
    "        self.total_gross = float(total_gross)\n",
    "        self.n_movies = int(n_movies)\n",
    "        self.avg_per_movie = float(avg_per_movie)\n",
    "        self.n1_movie = n1_movie\n",
    "        self.gross = float(gross)\n"
   ]
  },
  {
   "cell_type": "code",
   "execution_count": 6,
   "id": "f21429fa",
   "metadata": {},
   "outputs": [
    {
     "data": {
      "text/plain": [
       "300"
      ]
     },
     "execution_count": 6,
     "metadata": {},
     "output_type": "execute_result"
    }
   ],
   "source": [
    "len(data)"
   ]
  },
  {
   "cell_type": "code",
   "execution_count": 7,
   "id": "890b40d2",
   "metadata": {},
   "outputs": [],
   "source": [
    "actors = []\n",
    "for i in range(0,len(data),6):\n",
    "    actors.append(Actor(data[i],data[i+1], data[i+2], data[i+3],data[i+4], data[i+5]))"
   ]
  },
  {
   "cell_type": "code",
   "execution_count": 8,
   "id": "34e2d4b2",
   "metadata": {},
   "outputs": [
    {
     "data": {
      "text/plain": [
       "50"
      ]
     },
     "execution_count": 8,
     "metadata": {},
     "output_type": "execute_result"
    }
   ],
   "source": [
    "len(actors)"
   ]
  },
  {
   "cell_type": "markdown",
   "id": "f9ed98a7",
   "metadata": {},
   "source": [
    "### 1. O ator/atriz com maior número de filmes e o respectivo número de filmes."
   ]
  },
  {
   "cell_type": "code",
   "execution_count": 9,
   "id": "0ad045e3",
   "metadata": {},
   "outputs": [],
   "source": [
    "def maior_n_filmes(actors):\n",
    "    aux = 0\n",
    "    index = 0\n",
    "    for i in range(len(actors)):\n",
    "        if actors[i].n_movies > aux:\n",
    "            aux = actors[i].n_movies\n",
    "            index = i\n",
    "    return index"
   ]
  },
  {
   "cell_type": "code",
   "execution_count": 10,
   "id": "fd16f239",
   "metadata": {},
   "outputs": [
    {
     "data": {
      "text/plain": [
       "19"
      ]
     },
     "execution_count": 10,
     "metadata": {},
     "output_type": "execute_result"
    }
   ],
   "source": [
    "index = maior_n_filmes(actors)\n",
    "index"
   ]
  },
  {
   "cell_type": "code",
   "execution_count": 11,
   "id": "4dc1c97d",
   "metadata": {},
   "outputs": [],
   "source": [
    "file = open('resultados/desafio01.txt', 'w+')"
   ]
  },
  {
   "cell_type": "code",
   "execution_count": 12,
   "id": "cde988a6",
   "metadata": {},
   "outputs": [],
   "source": [
    "header = (f'{head[0] :<20} | {head[2] :<20}\\n')\n",
    "content = (f'{actors[index].actor :<20} | {actors[index].n_movies :<20}')"
   ]
  },
  {
   "cell_type": "code",
   "execution_count": 13,
   "id": "b0c8a04b",
   "metadata": {},
   "outputs": [],
   "source": [
    "file.writelines(header)\n",
    "file.writelines(content)\n",
    "file.close()"
   ]
  },
  {
   "cell_type": "markdown",
   "id": "b67f84b5",
   "metadata": {},
   "source": [
    "### 2. A média do número de filmes por ator."
   ]
  },
  {
   "cell_type": "code",
   "execution_count": 14,
   "id": "7d6da5ea",
   "metadata": {},
   "outputs": [],
   "source": [
    "def media_filmes(actors):\n",
    "    list = []\n",
    "    for i in range(len(actors)):\n",
    "        list.append(actors[i].n_movies)\n",
    "    media = sum(list)/len(list)\n",
    "    return media"
   ]
  },
  {
   "cell_type": "code",
   "execution_count": 15,
   "id": "a3083e60",
   "metadata": {},
   "outputs": [],
   "source": [
    "media = media_filmes(actors)"
   ]
  },
  {
   "cell_type": "code",
   "execution_count": 16,
   "id": "7a44596a",
   "metadata": {},
   "outputs": [],
   "source": [
    "file = open('resultados/desafio02.txt', 'w+')\n",
    "texto = (f'A média do número de filmes por ator é {media}')\n",
    "file.writelines(texto)\n",
    "file.close()"
   ]
  },
  {
   "cell_type": "markdown",
   "id": "4c71d318",
   "metadata": {},
   "source": [
    "### 3. O ator/atriz com a maior média por filme."
   ]
  },
  {
   "cell_type": "code",
   "execution_count": 17,
   "id": "ca46d254",
   "metadata": {},
   "outputs": [],
   "source": [
    "def maior_avg_per_movie(actors):\n",
    "    aux = 0\n",
    "    index = 0 \n",
    "    for i in range(len(actors)):\n",
    "        if actors[i].avg_per_movie > aux:\n",
    "            aux = actors[i].avg_per_movie\n",
    "            index = i\n",
    "    return index"
   ]
  },
  {
   "cell_type": "code",
   "execution_count": 18,
   "id": "28c48612",
   "metadata": {},
   "outputs": [
    {
     "data": {
      "text/plain": [
       "14"
      ]
     },
     "execution_count": 18,
     "metadata": {},
     "output_type": "execute_result"
    }
   ],
   "source": [
    "index = maior_avg_per_movie(actors)\n",
    "index"
   ]
  },
  {
   "cell_type": "code",
   "execution_count": 19,
   "id": "2423e006",
   "metadata": {},
   "outputs": [
    {
     "name": "stdout",
     "output_type": "stream",
     "text": [
      "Actor                | Average per Movie\n",
      "Anthony Daniels      | 451.8\n"
     ]
    }
   ],
   "source": [
    "print(f'{head[0] :<20} | {head[3]}')\n",
    "print(f'{actors[index].actor :<20} | {actors[index].avg_per_movie :<5}')"
   ]
  },
  {
   "cell_type": "code",
   "execution_count": 20,
   "id": "e8c991b0",
   "metadata": {},
   "outputs": [],
   "source": [
    "file = open('resultados/desafio03.txt', 'w+')\n",
    "header = (f'{head[0] :<20} | {head[3]}\\n')\n",
    "content =(f'{actors[index].actor :<20} | {actors[index].avg_per_movie :<5}')\n",
    "file.writelines(header)\n",
    "file.writelines(content)\n",
    "file.close()"
   ]
  },
  {
   "cell_type": "markdown",
   "id": "e3d2017a",
   "metadata": {},
   "source": [
    "### 4. O nome do(s) filme(s) mais frequente(s) e sua respectiva frequência."
   ]
  },
  {
   "cell_type": "code",
   "execution_count": 21,
   "id": "efe0efa1",
   "metadata": {},
   "outputs": [],
   "source": [
    "def most_freq_movies(actors):\n",
    "    lista = []\n",
    "    res = []\n",
    "    freq = []\n",
    "    output = []\n",
    "    for i in range(len(actors)):\n",
    "        lista.append(actors[i].n1_movie)\n",
    "    \n",
    "    lista.sort()\n",
    "    \n",
    "    for i in range(len(lista)):\n",
    "        if lista[i] not in res:\n",
    "            res.append(lista[i])\n",
    "    \n",
    "    for i in range(len(res)):\n",
    "        freq.append(lista.count(res[i]))\n",
    "        \n",
    "    output.append(res[freq.index(max(freq))])\n",
    "    output.append(max(freq))\n",
    "    return output"
   ]
  },
  {
   "cell_type": "code",
   "execution_count": 22,
   "id": "ce15c75e",
   "metadata": {},
   "outputs": [],
   "source": [
    "resultado = most_freq_movies(actors)"
   ]
  },
  {
   "cell_type": "code",
   "execution_count": 23,
   "id": "3152f00a",
   "metadata": {},
   "outputs": [
    {
     "name": "stdout",
     "output_type": "stream",
     "text": [
      "#1 Movie             | Frequency\n",
      "The Avengers         | 6    \n"
     ]
    }
   ],
   "source": [
    "print(f'{head[4]:<20} | Frequency')\n",
    "print(f'{resultado[0]:<20} | {resultado[1] :<5}')"
   ]
  },
  {
   "cell_type": "code",
   "execution_count": 24,
   "id": "7c9fb338",
   "metadata": {},
   "outputs": [],
   "source": [
    "file = open('resultados/desafio04.txt', 'w+')\n",
    "header = (f'{head[4]:<20} | Frequency\\n')\n",
    "content = (f'{resultado[0]:<20} | {resultado[1] :<5}')\n",
    "file.writelines(header)\n",
    "file.writelines(content)\n",
    "file.close()"
   ]
  },
  {
   "cell_type": "markdown",
   "id": "5d7b23bb",
   "metadata": {},
   "source": [
    "### 5. O Ator que foi mais bem pago."
   ]
  },
  {
   "cell_type": "code",
   "execution_count": 25,
   "id": "2525debd",
   "metadata": {},
   "outputs": [],
   "source": [
    "def maior_total_gross(actors):\n",
    "    aux = 0\n",
    "    index = 0 \n",
    "    for i in range(len(actors)):\n",
    "        if actors[i].total_gross > aux:\n",
    "            aux = actors[i].total_gross\n",
    "            index = i\n",
    "    return index"
   ]
  },
  {
   "cell_type": "code",
   "execution_count": 26,
   "id": "dca39c37",
   "metadata": {},
   "outputs": [
    {
     "data": {
      "text/plain": [
       "0"
      ]
     },
     "execution_count": 26,
     "metadata": {},
     "output_type": "execute_result"
    }
   ],
   "source": [
    "index = maior_total_gross(actors)\n",
    "index"
   ]
  },
  {
   "cell_type": "code",
   "execution_count": 27,
   "id": "82935959",
   "metadata": {},
   "outputs": [
    {
     "name": "stdout",
     "output_type": "stream",
     "text": [
      "Actor                | Total Gross\n",
      "Harrison Ford        | 4871.7\n"
     ]
    }
   ],
   "source": [
    "print(f'{head[0] :<20} | {head[1]}')\n",
    "print(f'{actors[index].actor :<20} | {actors[index].total_gross :<5}')"
   ]
  },
  {
   "cell_type": "code",
   "execution_count": 28,
   "id": "63615d3e",
   "metadata": {},
   "outputs": [],
   "source": [
    "file = open('resultados/desafio05.txt', 'w+')\n",
    "header = (f'{head[0] :<20} | {head[1]}\\n')\n",
    "content = (f'{actors[index].actor :<20} | {actors[index].total_gross :<5}')\n",
    "file.writelines(header)\n",
    "file.writelines(content)\n",
    "file.close()"
   ]
  },
  {
   "cell_type": "code",
   "execution_count": null,
   "id": "a82f96c2",
   "metadata": {},
   "outputs": [],
   "source": []
  }
 ],
 "metadata": {
  "kernelspec": {
   "display_name": "Python 3 (ipykernel)",
   "language": "python",
   "name": "python3"
  },
  "language_info": {
   "codemirror_mode": {
    "name": "ipython",
    "version": 3
   },
   "file_extension": ".py",
   "mimetype": "text/x-python",
   "name": "python",
   "nbconvert_exporter": "python",
   "pygments_lexer": "ipython3",
   "version": "3.9.7"
  }
 },
 "nbformat": 4,
 "nbformat_minor": 5
}
